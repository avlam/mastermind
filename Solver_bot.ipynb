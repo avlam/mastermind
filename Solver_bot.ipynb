{
 "cells": [
  {
   "cell_type": "code",
   "execution_count": 1,
   "metadata": {},
   "outputs": [],
   "source": [
    "import pandas as pd\n",
    "import requests\n",
    "from splinter import Browser\n",
    "from bs4 import BeautifulSoup as bs\n",
    "import random"
   ]
  },
  {
   "cell_type": "code",
   "execution_count": 2,
   "metadata": {},
   "outputs": [],
   "source": [
    "class Digit:\n",
    "    def __init__(self):\n",
    "        self.to_try = [x for x in range(10)]\n",
    "        self.no = list()\n",
    "        self.maybe = list()\n",
    "        self.yes = list()\n",
    "        \n",
    "    def remove(self,digit,attribute):\n",
    "        ind = getattr(self,attribute).index(digit)\n",
    "        value = getattr(self,attribute)\n",
    "        value.pop(ind)\n",
    "        setattr(self,attribute,value)\n",
    "        \n",
    "    def add(self,digit,attribute):\n",
    "        if getattr(self,attribute) is None:\n",
    "            setattr(self,attribute,[digit])\n",
    "        elif len(getattr(self,attribute)) == 0:\n",
    "            setattr(self,attribute,[digit])\n",
    "        else:\n",
    "            setattr(self,attribute,getattr(self,attribute).append(digit))\n",
    "            \n",
    "    def is_there(self, value, attribute):\n",
    "        reference = getattr(self,attribute)\n",
    "        if reference is None:\n",
    "            return False\n",
    "        elif len(reference) > 0:\n",
    "            return value in reference\n",
    "        \n",
    "    def find_value(self,value):\n",
    "#         Return attribute where number is stored\n",
    "        if self.is_there(value,'yes'):\n",
    "            return 'yes'\n",
    "        elif self.is_there(value,'maybe'):\n",
    "            return 'maybe'\n",
    "        elif self.is_there(value,'to_try'):\n",
    "            return 'to_try'\n",
    "        elif self.is_there(value,'no'):\n",
    "            return 'no'\n",
    "        else:\n",
    "            print(value)\n",
    "            return 'not found'\n",
    "    def move(self, value, target):\n",
    "        from_attr = self.find_value(value)\n",
    "        if from_attr == 'not found':\n",
    "            error('value not found')\n",
    "        elif from_attr == target:\n",
    "            pass\n",
    "        else:\n",
    "            self.remove(value,from_attr)\n",
    "            self.add(value,target)"
   ]
  },
  {
   "cell_type": "code",
   "execution_count": 3,
   "metadata": {},
   "outputs": [],
   "source": [
    "def random_guess(possibilities):\n",
    "#     possibilities should be a list of instances of class Digit\n",
    "    guess=''\n",
    "    for digit in possibilities:\n",
    "        if len(digit.yes) > 0:\n",
    "            insert_from = digit.yes\n",
    "        elif len(digit.to_try) > 0:\n",
    "            insert_from = digit.to_try\n",
    "        elif len(digit.maybe) > 0: \n",
    "            insert_from = digit.maybe\n",
    "        guess += str(random.choice(insert_from))\n",
    "    return guess\n",
    "    \n",
    "def enter_guess(guess):\n",
    "    browser.find_by_id('guess-text').fill(guess)\n",
    "    browser.find_by_id('guess-submit').click()\n",
    "    \n",
    "def retrieve_feedback():\n",
    "    results = pd.read_html(browser.html,index_col=0)[0]\n",
    "    return results\n",
    "\n",
    "def process_answer(guess,possibilities,debug=False):\n",
    "    digits = [int(character) for character in guess]\n",
    "    results = retrieve_feedback()\n",
    "    if debug:\n",
    "        print(results)\n",
    "    most_recent = results.index.max()\n",
    "    rdrp = results['Digit & Place'].loc[most_recent]\n",
    "    rdwp = results['Digit, not Place'].loc[most_recent]\n",
    "    \n",
    "    if rdrp == 0 and rdwp == 0:\n",
    "#         remove all digits of guess from each digits 'maybe' list and add to 'no' list\n",
    "        for guess_digit in guess:\n",
    "            for answer_digit in possibilities:\n",
    "                answer_digit.move(int(guess_digit),'no')\n",
    "    elif rdrp == 0:\n",
    "        for guess_index,guess_digit in enumerate(guess):\n",
    "            for answer_index,answer_digit in enumerate(possibilities):\n",
    "                if answer_index == guess_index:\n",
    "                    answer_digit.move(int(guess_digit),'no')\n",
    "                else:\n",
    "                    answer_digit.move(int(guess_digit),'maybe')"
   ]
  },
  {
   "cell_type": "code",
   "execution_count": 4,
   "metadata": {},
   "outputs": [],
   "source": [
    "# Parameters \n",
    "url = 'https://ucbe-mastermind.herokuapp.com/'\n",
    "bot_name = 'beepBoop'\n",
    "answer = [Digit() for x in range(4)]"
   ]
  },
  {
   "cell_type": "code",
   "execution_count": 5,
   "metadata": {},
   "outputs": [],
   "source": [
    "# Visit page and enter bot_name\n",
    "browser = Browser(\"chrome\",headless=False)\n",
    "browser.visit(url)\n",
    "browser.find_by_id('player-name').fill(bot_name)"
   ]
  },
  {
   "cell_type": "code",
   "execution_count": 6,
   "metadata": {},
   "outputs": [
    {
     "name": "stdout",
     "output_type": "stream",
     "text": [
      "8\n"
     ]
    },
    {
     "ename": "NameError",
     "evalue": "name 'error' is not defined",
     "output_type": "error",
     "traceback": [
      "\u001b[0;31m---------------------------------------------------------------------------\u001b[0m",
      "\u001b[0;31mNameError\u001b[0m                                 Traceback (most recent call last)",
      "\u001b[0;32m<ipython-input-6-abf4652c10af>\u001b[0m in \u001b[0;36m<module>\u001b[0;34m()\u001b[0m\n\u001b[1;32m      3\u001b[0m     \u001b[0mthis_guess\u001b[0m \u001b[0;34m=\u001b[0m \u001b[0mrandom_guess\u001b[0m\u001b[0;34m(\u001b[0m\u001b[0manswer\u001b[0m\u001b[0;34m)\u001b[0m\u001b[0;34m\u001b[0m\u001b[0m\n\u001b[1;32m      4\u001b[0m     \u001b[0menter_guess\u001b[0m\u001b[0;34m(\u001b[0m\u001b[0mthis_guess\u001b[0m\u001b[0;34m)\u001b[0m\u001b[0;34m\u001b[0m\u001b[0m\n\u001b[0;32m----> 5\u001b[0;31m     \u001b[0mprocess_answer\u001b[0m\u001b[0;34m(\u001b[0m\u001b[0mthis_guess\u001b[0m\u001b[0;34m,\u001b[0m\u001b[0manswer\u001b[0m\u001b[0;34m)\u001b[0m\u001b[0;34m\u001b[0m\u001b[0m\n\u001b[0m\u001b[1;32m      6\u001b[0m     \u001b[0mfeedback\u001b[0m \u001b[0;34m=\u001b[0m \u001b[0mretrieve_feedback\u001b[0m\u001b[0;34m(\u001b[0m\u001b[0;34m)\u001b[0m\u001b[0;34m\u001b[0m\u001b[0m\n\u001b[1;32m      7\u001b[0m     \u001b[0;32mif\u001b[0m \u001b[0mfeedback\u001b[0m\u001b[0;34m[\u001b[0m\u001b[0;34m'Digit & Place'\u001b[0m\u001b[0;34m]\u001b[0m\u001b[0;34m.\u001b[0m\u001b[0mas_matrix\u001b[0m\u001b[0;34m(\u001b[0m\u001b[0;34m)\u001b[0m\u001b[0;34m[\u001b[0m\u001b[0;36m0\u001b[0m\u001b[0;34m]\u001b[0m \u001b[0;34m==\u001b[0m \u001b[0;36m4\u001b[0m\u001b[0;34m:\u001b[0m\u001b[0;34m\u001b[0m\u001b[0m\n",
      "\u001b[0;32m<ipython-input-3-b36b3d485283>\u001b[0m in \u001b[0;36mprocess_answer\u001b[0;34m(guess, possibilities, debug)\u001b[0m\n\u001b[1;32m     40\u001b[0m                     \u001b[0manswer_digit\u001b[0m\u001b[0;34m.\u001b[0m\u001b[0mmove\u001b[0m\u001b[0;34m(\u001b[0m\u001b[0mint\u001b[0m\u001b[0;34m(\u001b[0m\u001b[0mguess_digit\u001b[0m\u001b[0;34m)\u001b[0m\u001b[0;34m,\u001b[0m\u001b[0;34m'no'\u001b[0m\u001b[0;34m)\u001b[0m\u001b[0;34m\u001b[0m\u001b[0m\n\u001b[1;32m     41\u001b[0m                 \u001b[0;32melse\u001b[0m\u001b[0;34m:\u001b[0m\u001b[0;34m\u001b[0m\u001b[0m\n\u001b[0;32m---> 42\u001b[0;31m                     \u001b[0manswer_digit\u001b[0m\u001b[0;34m.\u001b[0m\u001b[0mmove\u001b[0m\u001b[0;34m(\u001b[0m\u001b[0mint\u001b[0m\u001b[0;34m(\u001b[0m\u001b[0mguess_digit\u001b[0m\u001b[0;34m)\u001b[0m\u001b[0;34m,\u001b[0m\u001b[0;34m'maybe'\u001b[0m\u001b[0;34m)\u001b[0m\u001b[0;34m\u001b[0m\u001b[0m\n\u001b[0m",
      "\u001b[0;32m<ipython-input-2-dd3342ec2fdd>\u001b[0m in \u001b[0;36mmove\u001b[0;34m(self, value, target)\u001b[0m\n\u001b[1;32m     43\u001b[0m         \u001b[0mfrom_attr\u001b[0m \u001b[0;34m=\u001b[0m \u001b[0mself\u001b[0m\u001b[0;34m.\u001b[0m\u001b[0mfind_value\u001b[0m\u001b[0;34m(\u001b[0m\u001b[0mvalue\u001b[0m\u001b[0;34m)\u001b[0m\u001b[0;34m\u001b[0m\u001b[0m\n\u001b[1;32m     44\u001b[0m         \u001b[0;32mif\u001b[0m \u001b[0mfrom_attr\u001b[0m \u001b[0;34m==\u001b[0m \u001b[0;34m'not found'\u001b[0m\u001b[0;34m:\u001b[0m\u001b[0;34m\u001b[0m\u001b[0m\n\u001b[0;32m---> 45\u001b[0;31m             \u001b[0merror\u001b[0m\u001b[0;34m(\u001b[0m\u001b[0;34m'value not found'\u001b[0m\u001b[0;34m)\u001b[0m\u001b[0;34m\u001b[0m\u001b[0m\n\u001b[0m\u001b[1;32m     46\u001b[0m         \u001b[0;32melif\u001b[0m \u001b[0mfrom_attr\u001b[0m \u001b[0;34m==\u001b[0m \u001b[0mtarget\u001b[0m\u001b[0;34m:\u001b[0m\u001b[0;34m\u001b[0m\u001b[0m\n\u001b[1;32m     47\u001b[0m             \u001b[0;32mpass\u001b[0m\u001b[0;34m\u001b[0m\u001b[0m\n",
      "\u001b[0;31mNameError\u001b[0m: name 'error' is not defined"
     ]
    }
   ],
   "source": [
    "guessing = True\n",
    "while guessing:\n",
    "    this_guess = random_guess(answer)\n",
    "    enter_guess(this_guess)\n",
    "    process_answer(this_guess,answer)\n",
    "    feedback = retrieve_feedback()\n",
    "    if feedback['Digit & Place'].as_matrix()[0] == 4:\n",
    "        guessing = False"
   ]
  },
  {
   "cell_type": "code",
   "execution_count": null,
   "metadata": {},
   "outputs": [],
   "source": [
    "feedback['Digit & Place'].as_matrix()[0]"
   ]
  },
  {
   "cell_type": "code",
   "execution_count": null,
   "metadata": {},
   "outputs": [],
   "source": [
    "answer[2].maybe"
   ]
  },
  {
   "cell_type": "code",
   "execution_count": 7,
   "metadata": {},
   "outputs": [
    {
     "name": "stdout",
     "output_type": "stream",
     "text": [
      "8\n"
     ]
    },
    {
     "data": {
      "text/plain": [
       "'not found'"
      ]
     },
     "execution_count": 7,
     "metadata": {},
     "output_type": "execute_result"
    }
   ],
   "source": [
    "answer[0].find_value(8)"
   ]
  },
  {
   "cell_type": "code",
   "execution_count": 13,
   "metadata": {},
   "outputs": [],
   "source": [
    "answer[0].maybe"
   ]
  },
  {
   "cell_type": "code",
   "execution_count": null,
   "metadata": {},
   "outputs": [],
   "source": []
  }
 ],
 "metadata": {
  "kernelspec": {
   "display_name": "Python 3",
   "language": "python",
   "name": "python3"
  },
  "language_info": {
   "codemirror_mode": {
    "name": "ipython",
    "version": 3
   },
   "file_extension": ".py",
   "mimetype": "text/x-python",
   "name": "python",
   "nbconvert_exporter": "python",
   "pygments_lexer": "ipython3",
   "version": "3.6.3"
  },
  "toc": {
   "nav_menu": {},
   "number_sections": true,
   "sideBar": true,
   "skip_h1_title": false,
   "title_cell": "Table of Contents",
   "title_sidebar": "Contents",
   "toc_cell": false,
   "toc_position": {},
   "toc_section_display": true,
   "toc_window_display": false
  }
 },
 "nbformat": 4,
 "nbformat_minor": 2
}
