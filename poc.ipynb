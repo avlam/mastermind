{
 "cells": [
  {
   "cell_type": "code",
   "execution_count": 1,
   "metadata": {},
   "outputs": [],
   "source": [
    "import random\n",
    "import pandas as pd\n",
    "options = [str(x) for x in range(10)]\n",
    "# pw_length = int(input('Select pw length: '))\n",
    "pw_length = 4\n",
    "pw=[]\n",
    "for i in range(pw_length):\n",
    "    pw.append(random.choice(options))\n",
    "# print(pw)"
   ]
  },
  {
   "cell_type": "code",
   "execution_count": 2,
   "metadata": {},
   "outputs": [],
   "source": [
    "def generate_pw(pw_length=4,debug=False):\n",
    "    options = [str(x) for x in range(10)]\n",
    "    # pw_length = int(input('Select pw length: '))\n",
    "    pw=[]\n",
    "    for i in range(pw_length):\n",
    "        pw.append(random.choice(options))\n",
    "    if debug:\n",
    "        print(f'password is: {pw}')\n",
    "    return pw\n",
    "def check_guess(guess, password):\n",
    "    answer_key= {}\n",
    "    for index,character in enumerate(password):\n",
    "        if character in answer_key.keys():\n",
    "            answer_key[character].append(index)\n",
    "        else:\n",
    "            answer_key[character] = [index]\n",
    "    right_place = 0\n",
    "    right_digit = 0\n",
    "    for index, character in enumerate(guess):\n",
    "        if character in answer_key.keys():\n",
    "            if index in answer_key[character]:\n",
    "                right_place += 1\n",
    "                answer_key[character].pop(answer_key[character].index(index))\n",
    "            elif answer_key[character] == []:\n",
    "                right_digit += 0\n",
    "            else:\n",
    "                right_digit += 1\n",
    "            \n",
    "    output = (right_place, right_digit)\n",
    "    return output"
   ]
  },
  {
   "cell_type": "code",
   "execution_count": null,
   "metadata": {},
   "outputs": [],
   "source": [
    "## guessing = True\n",
    "pw = generate_pw(debug=False)\n",
    "# pw = ['1','1','9','5']\n",
    "game = pd.DataFrame({'Password':[],'Guess':[],'Right_Place':[],'Right_Digit':[]})\n",
    "while guessing:\n",
    "    guess = input(f'Guess the Password! ({pw_length} digits long): ')\n",
    "    if guess.lower() == 'give up':\n",
    "        print(pw)\n",
    "        guessing = False\n",
    "    feedback = check_guess(guess, pw)\n",
    "    print(f'Right Digit, Right Place: {feedback[0]}')\n",
    "    print(f'Right Digit, Wrong Place: {feedback[1]}')\n",
    "    game = game.append(\n",
    "        pd.DataFrame({'Password':''.join(pw),\n",
    "                      'Guess':''.join(guess),\n",
    "                      'Right_Place':int(feedback[0]),\n",
    "                      'Right_Digit':int(feedback[1])}\n",
    "                     ,index=[len(game)]))\n",
    "    if feedback[0] == pw_length:\n",
    "        print('Congrats, you won!')\n",
    "        guessing = False\n",
    "game"
   ]
  },
  {
   "cell_type": "code",
   "execution_count": null,
   "metadata": {},
   "outputs": [],
   "source": []
  }
 ],
 "metadata": {
  "kernelspec": {
   "display_name": "Python 3",
   "language": "python",
   "name": "python3"
  },
  "language_info": {
   "codemirror_mode": {
    "name": "ipython",
    "version": 3
   },
   "file_extension": ".py",
   "mimetype": "text/x-python",
   "name": "python",
   "nbconvert_exporter": "python",
   "pygments_lexer": "ipython3",
   "version": "3.6.3"
  },
  "toc": {
   "nav_menu": {},
   "number_sections": true,
   "sideBar": true,
   "skip_h1_title": false,
   "title_cell": "Table of Contents",
   "title_sidebar": "Contents",
   "toc_cell": false,
   "toc_position": {},
   "toc_section_display": true,
   "toc_window_display": false
  }
 },
 "nbformat": 4,
 "nbformat_minor": 2
}
