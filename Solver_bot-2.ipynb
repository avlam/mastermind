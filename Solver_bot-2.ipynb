{
 "cells": [
  {
   "cell_type": "code",
   "execution_count": 1,
   "metadata": {},
   "outputs": [],
   "source": [
    "import pandas as pd\n",
    "import requests\n",
    "from splinter import Browser\n",
    "from bs4 import BeautifulSoup as bs\n",
    "import random"
   ]
  },
  {
   "cell_type": "code",
   "execution_count": 2,
   "metadata": {},
   "outputs": [],
   "source": [
    "class Digit:\n",
    "    def __init__(self):\n",
    "        self.choices = [x for x in range(10)]\n",
    "    def guess(self):\n",
    "        return random.choice(self.choices)\n",
    "    def reinforce(self,value):\n",
    "        self.choices.append(int(value))\n",
    "    def remove(self,value):\n",
    "        while int(value) in self.choices:\n",
    "            self.choices.pop(self.choices.index(int(value)))\n",
    "    def discourage(self,value):\n",
    "        if int(value) in self.choices:\n",
    "            self.choices.pop(self.choices.index(int(value)))\n",
    "   "
   ]
  },
  {
   "cell_type": "code",
   "execution_count": 3,
   "metadata": {},
   "outputs": [],
   "source": [
    "def enter_guess(guess):\n",
    "    browser.find_by_id('guess-text').fill(guess)\n",
    "    browser.find_by_id('guess-submit').click()\n",
    "    \n",
    "def retrieve_feedback():\n",
    "    results = pd.read_html(browser.html,index_col=0)[0]\n",
    "    return results\n",
    "\n",
    "def process_answer(guess,debug=False):\n",
    "    digits = [int(character) for character in guess]\n",
    "    results = retrieve_feedback()\n",
    "    if debug:\n",
    "        print(results)\n",
    "    most_recent = results.index.max()\n",
    "    rdrp = results['Digit & Place'].loc[most_recent]\n",
    "    rdwp = results['Digit, not Place'].loc[most_recent]\n",
    "    \n",
    "    if rdrp == 0 and rdwp == 0:\n",
    "#         remove all digits of guess from each digits 'maybe' list and add to 'no' list\n",
    "        for guess_digit in guess:\n",
    "            for answer_digit in answer:\n",
    "                answer_digit.remove(guess_digit)\n",
    "    elif rdrp == 0:\n",
    "        for index,guess_digit in enumerate(guess):\n",
    "            answer[index].remove(guess_digit)\n",
    "            \n",
    "    if rdwp == 0:\n",
    "        for g_index,guess_digit in enumerate(guess):\n",
    "            for a_index,answer_digit in enumerate(answer):\n",
    "                if g_index != a_index:\n",
    "                    answer_digit.discourage(guess_digit)\n",
    "            \n",
    "    if rdwp > 0:\n",
    "        for guess_digit in guess:\n",
    "            for answer_digit in answer:\n",
    "                answer_digit.reinforce(guess_digit)\n",
    "                \n",
    "    if rdrp > 0:\n",
    "        for index,guess_digit in enumerate(guess):\n",
    "            answer[index].reinforce(guess_digit)\n",
    "            answer[index].reinforce(guess_digit)"
   ]
  },
  {
   "cell_type": "code",
   "execution_count": 4,
   "metadata": {},
   "outputs": [],
   "source": [
    "# Parameters \n",
    "url = 'https://ucbe-mastermind.herokuapp.com/'\n",
    "bot_name = 'beepBoop'\n",
    "answer = [Digit() for x in range(4)]"
   ]
  },
  {
   "cell_type": "code",
   "execution_count": 5,
   "metadata": {},
   "outputs": [],
   "source": [
    "# Visit page and enter bot_name\n",
    "browser = Browser(\"chrome\",headless=False)\n",
    "browser.visit(url)\n",
    "browser.find_by_id('player-name').fill(bot_name)"
   ]
  },
  {
   "cell_type": "code",
   "execution_count": 6,
   "metadata": {},
   "outputs": [
    {
     "name": "stdout",
     "output_type": "stream",
     "text": [
      "    Guess  Digit & Place  Digit, not Place\n",
      "23   8754              4                 0\n",
      "22   1142              0                 1\n",
      "21   8749              2                 1\n",
      "20   5907              0                 2\n",
      "19   5952              1                 0\n",
      "18   9398              0                 1\n",
      "17   8224              2                 0\n",
      "16   2273              0                 1\n",
      "15   9284              1                 1\n",
      "14   9889              0                 1\n",
      "13   8974              2                 1\n",
      "12   1439              0                 1\n",
      "11   8234              2                 0\n",
      "10   7384              1                 2\n",
      "9    9198              0                 1\n",
      "8    7543              0                 3\n",
      "7    2144              1                 0\n",
      "6    1284              1                 1\n",
      "5    8386              1                 0\n",
      "4    9284              1                 1\n",
      "3    5553              1                 0\n",
      "2    1204              1                 0\n",
      "1    2835              0                 2\n"
     ]
    }
   ],
   "source": [
    "guessing = True\n",
    "guess_count = 0\n",
    "while guessing:\n",
    "    this_guess = [str(digit.guess()) for digit in answer]\n",
    "    enter_guess(this_guess)\n",
    "    process_answer(this_guess)\n",
    "    feedback = retrieve_feedback()\n",
    "    if feedback['Digit & Place'].as_matrix()[0] == 4:\n",
    "        guessing = False\n",
    "    guess_count += 1 \n",
    "    if guess_count > 50:\n",
    "        browser.find_by_id('forfeit').click()\n",
    "        \n",
    "print(feedback)"
   ]
  },
  {
   "cell_type": "code",
   "execution_count": 7,
   "metadata": {},
   "outputs": [
    {
     "data": {
      "text/plain": [
       "array([6, 4, 1, 9, 3, 0, 8, 7, 2])"
      ]
     },
     "execution_count": 7,
     "metadata": {},
     "output_type": "execute_result"
    }
   ],
   "source": [
    "pd.Series(answer[3].choices).unique()"
   ]
  },
  {
   "cell_type": "code",
   "execution_count": null,
   "metadata": {},
   "outputs": [],
   "source": []
  }
 ],
 "metadata": {
  "kernelspec": {
   "display_name": "Python 3",
   "language": "python",
   "name": "python3"
  },
  "language_info": {
   "codemirror_mode": {
    "name": "ipython",
    "version": 3
   },
   "file_extension": ".py",
   "mimetype": "text/x-python",
   "name": "python",
   "nbconvert_exporter": "python",
   "pygments_lexer": "ipython3",
   "version": "3.6.3"
  },
  "toc": {
   "nav_menu": {},
   "number_sections": true,
   "sideBar": true,
   "skip_h1_title": false,
   "title_cell": "Table of Contents",
   "title_sidebar": "Contents",
   "toc_cell": false,
   "toc_position": {},
   "toc_section_display": true,
   "toc_window_display": false
  }
 },
 "nbformat": 4,
 "nbformat_minor": 2
}
